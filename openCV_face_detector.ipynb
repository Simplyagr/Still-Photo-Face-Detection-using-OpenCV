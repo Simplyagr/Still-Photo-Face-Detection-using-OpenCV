{
 "cells": [
  {
   "cell_type": "code",
   "execution_count": 7,
   "metadata": {
    "colab": {
     "base_uri": "https://localhost:8080/"
    },
    "id": "Z0J9hTHdJQlY",
    "outputId": "af50d475-70b6-4b66-978a-71899c0e55ed"
   },
   "outputs": [
    {
     "name": "stdout",
     "output_type": "stream",
     "text": [
      "Requirement already satisfied: opencv-python in c:\\users\\aryan raje\\anaconda3\\lib\\site-packages (4.6.0.66)\n",
      "Requirement already satisfied: numpy>=1.19.3 in c:\\users\\aryan raje\\anaconda3\\lib\\site-packages (from opencv-python) (1.20.3)\n",
      "Note: you may need to restart the kernel to use updated packages.\n"
     ]
    }
   ],
   "source": [
    "pip install opencv-python"
   ]
  },
  {
   "cell_type": "code",
   "execution_count": 8,
   "metadata": {
    "id": "YbtyFPvJK2jY"
   },
   "outputs": [],
   "source": [
    "import cv2\n",
    "from random import randrange\n",
    "\n",
    "trained_face_data = cv2.CascadeClassifier(\"haarcascade_frontalface_default.xml\")"
   ]
  },
  {
   "cell_type": "code",
   "execution_count": 9,
   "metadata": {
    "id": "6v142Y6YLxOM"
   },
   "outputs": [],
   "source": [
    "img = cv2.imread(\"Honar-Sun-Mi-Hya-Gharchi.jpg\")"
   ]
  },
  {
   "cell_type": "code",
   "execution_count": 10,
   "metadata": {
    "colab": {
     "base_uri": "https://localhost:8080/"
    },
    "id": "Mz5q74PKNisG",
    "outputId": "5a43759f-1ea8-4adc-b02e-a4a0f15ed88c"
   },
   "outputs": [
    {
     "name": "stdout",
     "output_type": "stream",
     "text": [
      "[[225  94  60  60]\n",
      " [ 30  34  26  26]\n",
      " [312  58  61  61]\n",
      " [454 163  61  61]\n",
      " [161  89  55  55]\n",
      " [480  87  57  57]\n",
      " [ 88  95  52  52]\n",
      " [560  92  51  51]\n",
      " [414  88  65  65]]\n"
     ]
    }
   ],
   "source": [
    "grayscaled_img = cv2.cvtColor(img, cv2.COLOR_BGR2GRAY)\n",
    "face_coordinates = trained_face_data.detectMultiScale(grayscaled_img)\n",
    "\n",
    "print(face_coordinates)"
   ]
  },
  {
   "cell_type": "code",
   "execution_count": 11,
   "metadata": {
    "id": "dlNkdn2jPs1j"
   },
   "outputs": [],
   "source": [
    "for (x,y,w,h) in face_coordinates:\n",
    "  cv2.rectangle(img, (x,y), (x+w,y+h), (randrange(256),randrange(256),randrange(256)), 4)"
   ]
  },
  {
   "cell_type": "code",
   "execution_count": 17,
   "metadata": {
    "colab": {
     "base_uri": "https://localhost:8080/",
     "height": 526
    },
    "id": "NtPKJ_BcMU8i",
    "outputId": "107f620b-cd16-4549-e4d3-1f497a5ba979"
   },
   "outputs": [
    {
     "data": {
      "text/plain": [
       "-1"
      ]
     },
     "execution_count": 17,
     "metadata": {},
     "output_type": "execute_result"
    }
   ],
   "source": [
    "cv2.imshow(\"Faces\",img)\n",
    "cv2.waitKey()"
   ]
  },
  {
   "cell_type": "code",
   "execution_count": 18,
   "metadata": {
    "colab": {
     "base_uri": "https://localhost:8080/"
    },
    "id": "yKMdkE0sQoOv",
    "outputId": "e4314eab-acb2-49f4-e77f-67a9a28001dc"
   },
   "outputs": [
    {
     "name": "stdout",
     "output_type": "stream",
     "text": [
      "Code Completed\n"
     ]
    }
   ],
   "source": [
    "print(\"Code Completed\")"
   ]
  },
  {
   "cell_type": "code",
   "execution_count": null,
   "metadata": {},
   "outputs": [],
   "source": []
  }
 ],
 "metadata": {
  "colab": {
   "collapsed_sections": [],
   "provenance": []
  },
  "kernelspec": {
   "display_name": "Python 3 (ipykernel)",
   "language": "python",
   "name": "python3"
  },
  "language_info": {
   "codemirror_mode": {
    "name": "ipython",
    "version": 3
   },
   "file_extension": ".py",
   "mimetype": "text/x-python",
   "name": "python",
   "nbconvert_exporter": "python",
   "pygments_lexer": "ipython3",
   "version": "3.9.7"
  }
 },
 "nbformat": 4,
 "nbformat_minor": 1
}
